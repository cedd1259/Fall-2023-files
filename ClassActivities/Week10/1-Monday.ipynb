{
  "cells": [
    {
      "cell_type": "markdown",
      "metadata": {},
      "source": [
        "# Monday, October 23\n",
        "\n",
        "## Announcements and Reminders\n",
        "\n",
        "- Chapter 10 reading: something is broken\n",
        "- Quiz on Wednesday (dictionaries)\n",
        "- Celebration of Mind Wednesday Evening\n",
        "- Exercises for Chapter 10: due Friday\n"
      ]
    },
    {
      "cell_type": "markdown",
      "metadata": {},
      "source": [
        "## Activity: Counting Words with Dictionaries\n",
        "\n",
        "Today we will continue to explore the `dictionary` type in python.\n",
        "\n",
        "### Motivating Question\n",
        "\n",
        "Which word appears most frequently in Edgar Alan Poe's poem *The Raven*?\n",
        "\n",
        "#### Strategy\n",
        "\n",
        "How would you do this by hand?  How would you keep track of your data?"
      ]
    },
    {
      "cell_type": "markdown",
      "metadata": {},
      "source": [
        "### Dictionary Basics\n",
        "\n",
        "A *dictionary* is a data type in python that holds an unordered list of *key:value* pairs.  The keys must be distinct, the values do not.  \n",
        "\n",
        "Here is an example:"
      ]
    },
    {
      "cell_type": "code",
      "execution_count": 6,
      "metadata": {},
      "outputs": [
        {
          "name": "stdout",
          "output_type": "stream",
          "text": [
            "73\n",
            "{'Oscar': 42, 'Sheldon': 73}\n",
            "42\n",
            "73\n",
            "[42, 73]\n"
          ]
        }
      ],
      "source": [
        "fav_nums = {'Oscar': 42, 'Sheldon': 73}\n",
        "print(fav_nums['Sheldon'])\n",
        "print(fav_nums)\n",
        "for person in fav_nums:\n",
        "    print(fav_nums[person])\n",
        "#for x in fav_nums.values():\n",
        "#    print(x)\n",
        "\n",
        "num_list = list(fav_nums.values())\n",
        "print(num_list)\n",
        "\n"
      ]
    },
    {
      "cell_type": "markdown",
      "metadata": {},
      "source": [
        "Some things to try:\n",
        "* How could we find the favorite number of someone in the dictionary?\n",
        "* How could we print out each favorite number?\n",
        "* How could we get a list of the favorite numbers?\n",
        "* How could we add a new person's favorite number?\n",
        "* How could we check whether 496 is anyone's favorite number?\n",
        "* How could we find the largest favorite number of anyone in the dictionary?\n",
        "\n",
        "Here are some dictionary methods you might try to use: `.get()`, `.items()`, `.keys()`, `.values()`, `.update()`, `.pop()`.\n"
      ]
    },
    {
      "cell_type": "code",
      "execution_count": 18,
      "metadata": {},
      "outputs": [
        {
          "name": "stdout",
          "output_type": "stream",
          "text": [
            "[('Oscar', 42), ('Sheldon', 73), ('Gigi', 8), ('Bryce', 23), ('Nirod', 21)]\n",
            "{'Oscar': 42, 'Sheldon': 73, 'Gigi': 8, 'Bryce': 23, 'Nirod': 21}\n",
            "5\n",
            "True\n"
          ]
        }
      ],
      "source": [
        "print(list(fav_nums.items()))\n",
        "\n",
        "fav_nums.update({'Gigi':8, 'Nirod': 21})\n",
        "print(fav_nums)\n",
        "fav_nums['Bryce'] = 23\n",
        "\n",
        "print(len(fav_nums))\n",
        "\n",
        "print(42 in fav_nums.values())\n",
        "\n"
      ]
    },
    {
      "cell_type": "code",
      "execution_count": 32,
      "metadata": {},
      "outputs": [
        {
          "name": "stdout",
          "output_type": "stream",
          "text": [
            "73\n",
            "Sheldon\n"
          ]
        }
      ],
      "source": [
        "nums = list(fav_nums.values())\n",
        "nums.sort(reverse = True)\n",
        "largest = nums[0]\n",
        "print(nums[0])\n",
        "for person in fav_nums:\n",
        "    if fav_nums[person] == largest:\n",
        "        print(person)"
      ]
    },
    {
      "cell_type": "markdown",
      "metadata": {},
      "source": [
        "#### Adding new elements to a dictionary\n",
        "\n",
        "With lists, we used `.append()` to add a new item to the list at the end of the list.  Or, if we want to change the item in the list at position 7 to the value 42, say, we could write `mylist[7] = 42`.\n",
        "\n",
        "Dictionaries can similarly be updated like this."
      ]
    },
    {
      "cell_type": "code",
      "execution_count": 19,
      "metadata": {},
      "outputs": [
        {
          "name": "stdout",
          "output_type": "stream",
          "text": [
            "{'Oscar': 42, 'Sheldon': 73, 'Gigi': 8, 'Bryce': 23, 'Nirod': 21, 'Wes': 1, 'Edgar': 13}\n"
          ]
        }
      ],
      "source": [
        "fav_nums.update({\"Wes\":1})\n",
        "fav_nums['Edgar'] = 13\n",
        "\n",
        "print(fav_nums)"
      ]
    },
    {
      "cell_type": "markdown",
      "metadata": {},
      "source": [
        "##### Caution!\n",
        "\n",
        "What happens if you use `.update()` but there is already a key of the name you want to add?  One way to make sure this isn't the case is to use the `.get()` method.  This returns the value of the key, or if the key isn't present, it returns `None`.\n",
        "\n",
        "(You can also set a default value.)"
      ]
    },
    {
      "cell_type": "code",
      "execution_count": 20,
      "metadata": {},
      "outputs": [
        {
          "data": {
            "text/plain": [
              "13"
            ]
          },
          "execution_count": 20,
          "metadata": {},
          "output_type": "execute_result"
        }
      ],
      "source": [
        "fav_nums.get('Edgar')"
      ]
    },
    {
      "cell_type": "markdown",
      "metadata": {},
      "source": [
        "### Back to our main question\n",
        "\n",
        "Let's import the text of the poem (saved as `raven.txt` in this folder).  Print it out to make sure it worked."
      ]
    },
    {
      "cell_type": "code",
      "execution_count": 38,
      "metadata": {},
      "outputs": [
        {
          "name": "stdout",
          "output_type": "stream",
          "text": [
            "0\n"
          ]
        }
      ],
      "source": [
        "with open(\"raven.txt\", \"r\") as f:\n",
        "    text = f.read()\n",
        "\n",
        "#print(text)\n",
        "words = text.split()\n",
        "#print(words)\n",
        "\n",
        "counter = 0\n",
        "for word in words:\n",
        "    if word == \"nevermore\":\n",
        "        counter += 1\n",
        "print(counter)"
      ]
    },
    {
      "cell_type": "markdown",
      "metadata": {},
      "source": [
        "Next we should make a list of words.\n",
        "\n",
        "What about punctuation?  There are lots of different types of punctuation we need to consider.  Luckily, python has our backs with the `string` library."
      ]
    },
    {
      "cell_type": "code",
      "execution_count": 45,
      "metadata": {},
      "outputs": [
        {
          "name": "stdout",
          "output_type": "stream",
          "text": [
            "['the', 'raven', 'edgar', 'allen', 'poe', 'once', 'upon', 'a', 'midnight', 'dreary', 'while', 'i', 'pondered', 'weak', 'and', 'weary', 'over', 'many', 'a', 'quaint', 'and', 'curious', 'volume', 'of', 'forgotten', 'lore', 'while', 'i', 'nodded', 'nearly', 'napping', 'suddenly', 'there', 'came', 'a', 'tapping', 'as', 'of', 'someone', 'gently', 'rapping', 'rapping', 'on', 'my', 'chamber', 'door', 'tis', 'some', 'visitor', 'i', 'muttered', 'tapping', 'on', 'my', 'chamber', 'door', 'only', 'this', 'and', 'nothing', 'more', 'ah', 'distinctly', 'i', 'remember', 'it', 'was', 'in', 'the', 'bleak', 'december', 'and', 'each', 'separate', 'dying', 'ember', 'wrought', 'its', 'ghost', 'upon', 'the', 'floor', 'eagerly', 'i', 'wished', 'the', 'morrow', 'vainly', 'i', 'had', 'sought', 'to', 'borrow', 'from', 'my', 'books', 'surcease', 'of', 'sorrowsorrow', 'for', 'the', 'lost', 'lenore', 'for', 'the', 'rare', 'and', 'radiant', 'maiden', 'whom', 'the', 'angels', 'named', 'lenore', 'nameless', 'here', 'forever', 'more', 'and', 'the', 'silken', 'sad', 'uncertainly', 'rustling', 'of', 'each', 'purple', 'curtain', 'thrilled', 'me', 'filled', 'me', 'with', 'fantastic', 'terror', 'never', 'felt', 'before', 'so', 'to', 'still', 'the', 'beating', 'of', 'my', 'heart', 'i', 'stood', 'repeating', 'tis', 'some', 'visitor', 'entreating', 'entrance', 'at', 'my', 'chamber', 'door', 'some', 'late', 'visitor', 'entreating', 'entrance', 'at', 'my', 'chamber', 'door', 'this', 'it', 'is', 'and', 'nothing', 'more', 'presently', 'my', 'soul', 'grew', 'strong', 'hesitating', 'then', 'no', 'longer', 'sir', 'said', 'i', 'or', 'madam', 'truly', 'your', 'forgiveness', 'i', 'implore', 'but', 'the', 'fact', 'is', 'i', 'was', 'napping', 'and', 'so', 'gently', 'you', 'came', 'rapping', 'and', 'so', 'faintly', 'you', 'came', 'tapping', 'tapping', 'at', 'my', 'chamber', 'door', 'that', 'i', 'scare', 'was', 'sure', 'i', 'heard', 'you', '', 'here', 'i', 'opened', 'wide', 'the', 'door', 'darkness', 'there', 'and', 'nothing', 'more', 'deep', 'into', 'the', 'darkness', 'peering', 'long', 'i', 'stood', 'there', 'wondering', 'fearing', 'doubting', 'dreaming', 'dreams', 'no', 'mortal', 'ever', 'dared', 'to', 'dream', 'before', 'but', 'the', 'silence', 'was', 'unbroken', 'and', 'the', 'stillness', 'gave', 'no', 'token', 'and', 'the', 'only', 'word', 'there', 'spoken', 'was', 'the', 'whispered', 'word', 'lenore', 'this', 'i', 'whispered', 'and', 'an', 'echo', 'murmered', 'back', 'lenore', 'merely', 'this', 'and', 'nothing', 'more', 'back', 'into', 'my', 'chamber', 'turning', 'all', 'my', 'soul', 'within', 'me', 'burning', 'soon', 'again', 'i', 'heard', 'a', 'tapping', 'somewhat', 'louder', 'than', 'before', 'surely', 'said', 'i', 'surely', 'that', 'is', 'something', 'at', 'my', 'window', 'lattice', 'let', 'me', 'see', 'then', 'what', 'thereat', 'is', 'and', 'this', 'mystery', 'explore', 'let', 'my', 'heart', 'be', 'still', 'a', 'minute', 'and', 'this', 'mystery', 'explore', 'tis', 'the', 'wind', 'and', 'nothing', 'more', 'open', 'wide', 'i', 'flung', 'the', 'shutter', 'when', 'with', 'many', 'a', 'flirt', 'and', 'flutter', 'in', 'there', 'stepped', 'a', 'stately', 'raven', 'of', 'the', 'saintly', 'days', 'of', 'yore', 'not', 'the', 'least', 'obesience', 'made', 'he', 'not', 'a', 'minute', 'stopped', 'or', 'stayed', 'he', 'but', 'with', 'mein', 'of', 'lord', 'or', 'lady', 'perched', 'above', 'my', 'chamber', 'door', 'perched', 'upon', 'a', 'bust', 'of', 'pallas', 'just', 'above', 'my', 'chamber', 'door', 'perched', 'and', 'sat', 'and', 'nothing', 'more', 'then', 'this', 'ebony', 'bird', 'beguiling', 'my', 'sad', 'fancy', 'into', 'smiling', 'by', 'the', 'grave', 'and', 'stern', 'decorum', 'of', 'the', 'countenance', 'it', 'wore', 'though', 'thy', 'crest', 'be', 'shorn', 'and', 'shaven', 'thou', 'i', 'said', 'art', 'sure', 'no', 'craven', 'ghastly', 'grim', 'and', 'ancient', 'raven', 'wandering', 'from', 'the', 'nightly', 'shore', 'tell', 'me', 'what', 'thy', 'lordly', 'name', 'is', 'on', 'the', 'nights', 'plutonean', 'shore', 'quoth', 'the', 'raven', 'nevermore', 'much', 'i', 'marvelled', 'this', 'ungainly', 'foul', 'to', 'hear', 'discource', 'so', 'plainly', 'though', 'its', 'answer', 'little', 'meaning', 'little', 'relevancy', 'bore', 'for', 'we', 'cannot', 'help', 'agreeing', 'that', 'no', 'living', 'human', 'being', 'ever', 'yet', 'was', 'blessed', 'with', 'seeing', 'bird', 'above', 'his', 'chamber', 'door', 'bird', 'or', 'beast', 'upon', 'the', 'scultured', 'bust', 'above', 'his', 'chamber', 'door', 'with', 'such', 'name', 'as', 'nevermore', 'but', 'the', 'raven', 'sitting', 'lonely', 'on', 'the', 'placid', 'bust', 'spoke', 'only', 'that', 'one', 'word', 'as', 'if', 'his', 'soul', 'in', 'that', 'one', 'word', 'he', 'did', 'out', 'outpour', 'nothing', 'further', 'then', 'he', 'uttered', 'not', 'a', 'feather', 'then', 'he', 'fluttered', 'till', 'i', 'scarcely', 'more', 'than', 'muttered', 'other', 'friends', 'have', 'flown', 'before', 'on', 'the', 'morrow', 'he', 'will', 'leave', 'me', 'as', 'my', 'hopes', 'have', 'flown', 'before', 'but', 'the', 'bird', 'said', 'nevermore', 'startled', 'at', 'the', 'stillness', 'broken', 'by', 'reply', 'so', 'aptly', 'spoken', 'doubtless', 'said', 'i', 'what', 'it', 'utters', 'is', 'its', 'only', 'stock', 'and', 'store', 'caught', 'from', 'some', 'unhappy', 'master', 'whom', 'unmerciful', 'disaster', 'followed', 'fast', 'and', 'followed', 'faster', 'till', 'his', 'song', 'that', 'burden', 'bore', 'til', 'the', 'dirges', 'of', 'his', 'hopes', 'that', 'melenchology', 'burden', 'bore', 'of', 'nevernevermore', 'but', 'the', 'raven', 'still', 'beguiling', 'my', 'sad', 'fancy', 'into', 'smiling', 'straight', 'i', 'wheeled', 'a', 'cushioned', 'seet', 'in', 'front', 'of', 'bird', 'and', 'bust', 'and', 'door', 'then', 'upon', 'the', 'velvet', 'sinking', 'i', 'betook', 'myself', 'to', 'linking', 'fancy', 'unto', 'fancy', 'thinking', 'what', 'this', 'ominous', 'bird', 'of', 'yore', 'what', 'this', 'grim', 'ungainly', 'ghastly', 'gaunt', 'and', 'ominous', 'bird', 'of', 'yore', 'meant', 'in', 'croaking', 'nevermore', 'this', 'i', 'sat', 'engaged', 'in', 'guessing', 'but', 'no', 'syllable', 'expressing', 'to', 'the', 'fowl', 'whose', 'fiery', 'eyes', 'now', 'burned', 'into', 'my', 'bosoms', 'core', 'this', 'and', 'more', 'i', 'sat', 'divining', 'with', 'my', 'head', 'at', 'rest', 'reclining', 'on', 'the', 'cushions', 'velvet', 'lining', 'that', 'the', 'lamplight', 'gloated', 'oer', 'but', 'whose', 'velvet', 'violet', 'lining', 'with', 'the', 'lamplight', 'gloating', 'oer', 'she', 'shall', 'press', 'ah', 'nevermore', 'then', 'methought', 'the', 'air', 'grew', 'denser', 'perfumed', 'from', 'an', 'unseen', 'censor', 'swung', 'by', 'seraphim', 'whose', 'footfalls', 'tinkled', 'on', 'the', 'tufted', 'floor', 'wretch', 'i', 'cried', 'thy', 'god', 'hath', 'lent', 'thee', 'by', 'these', 'angels', 'he', 'hath', 'sent', 'thee', 'respite', 'respite', 'and', 'nepenthe', 'from', 'the', 'memories', 'of', 'lenore', 'quaff', 'oh', 'quaff', 'this', 'kind', 'nepenthe', 'and', 'forget', 'this', 'lost', 'lenore', 'quoth', 'the', 'raven', 'nevermore', 'prophet', 'said', 'i', 'thing', 'of', 'evil', 'prophet', 'still', 'if', 'bird', 'or', 'devil', 'whether', 'temptor', 'sent', 'or', 'tempest', 'tossed', 'thee', 'here', 'ashore', 'desolate', 'and', 'all', 'undaunted', 'by', 'this', 'desert', 'land', 'enchanted', 'by', 'this', 'home', 'of', 'horrors', 'haunted', 'tell', 'me', 'truly', 'i', 'implore', 'is', 'there', 'is', 'there', 'balm', 'in', 'gilead', 'tell', 'me', 'tell', 'me', 'i', 'implore', 'quoth', 'the', 'raven', 'nevermore', 'prophet', 'said', 'i', 'thing', 'of', 'evil', 'prophet', 'still', 'if', 'bird', 'or', 'devil', 'get', 'thee', 'back', 'into', 'the', 'tempest', 'and', 'the', 'nights', 'plutonean', 'shore', 'tell', 'this', 'soul', 'with', 'sorrow', 'laden', 'if', 'within', 'some', 'distant', 'aidenn', 'it', 'will', 'clasp', 'a', 'saintly', 'maiden', 'whom', 'the', 'angels', 'name', 'lenore', 'clasp', 'a', 'rare', 'and', 'radiant', 'maiden', 'whom', 'the', 'angels', 'name', 'lenore', 'quoth', 'the', 'raven', 'nevermore', 'be', 'that', 'word', 'our', 'sign', 'of', 'parting', 'bird', 'or', 'fiend', 'i', 'shieked', 'upstarting', 'get', 'thee', 'back', 'into', 'the', 'tempest', 'and', 'the', 'nights', 'plutonean', 'shore', 'leave', 'no', 'black', 'plume', 'as', 'a', 'token', 'of', 'the', 'lie', 'thy', 'soul', 'has', 'spoken', 'leave', 'my', 'loneliness', 'unbroken', 'quit', 'the', 'bust', 'above', 'my', 'door', 'take', 'thy', 'beak', 'from', 'out', 'my', 'heart', 'and', 'take', 'thy', 'form', 'from', 'off', 'my', 'door', 'quoth', 'the', 'raven', 'nevermore', 'and', 'the', 'raven', 'never', 'flitting', 'still', 'is', 'sitting', 'still', 'is', 'sitting', 'on', 'the', 'pallid', 'bust', 'of', 'pallas', 'just', 'above', 'my', 'chamber', 'door', 'and', 'his', 'eyes', 'have', 'all', 'the', 'seeming', 'of', 'a', 'daemons', 'that', 'is', 'dreaming', 'and', 'the', 'lamplight', 'oer', 'him', 'streaming', 'throws', 'his', 'shadow', 'on', 'the', 'floor', 'and', 'my', 'soul', 'from', 'out', 'that', 'shadow', 'floating', 'on', 'the', 'chamber', 'floor', 'shall', 'be', 'liftednevermore']\n",
            "59\n"
          ]
        }
      ],
      "source": [
        "import string\n",
        "\n",
        "#print(string.punctuation)\n",
        "\n",
        "clean_words = []\n",
        "for word in words:\n",
        "    word = word.lower()\n",
        "    for p in string.punctuation:\n",
        "        word = word.replace(p,\"\")\n",
        "    clean_words.append(word)\n",
        "\n",
        "print(clean_words)\n",
        "\n",
        "counter = 0\n",
        "for word in clean_words:\n",
        "    if word == \"the\":\n",
        "        counter += 1\n",
        "print(counter)"
      ]
    },
    {
      "cell_type": "markdown",
      "metadata": {},
      "source": [
        "Remove all punctuation, and then create a list of words.\n",
        "\n",
        "Also, make all of them lower-case."
      ]
    },
    {
      "cell_type": "code",
      "execution_count": null,
      "metadata": {},
      "outputs": [],
      "source": []
    },
    {
      "cell_type": "markdown",
      "metadata": {},
      "source": [
        "### Counting words in the list\n",
        "\n",
        "Now we should have a list of words from the poem, not including any whitespace or punctiation and all the same case.  How can we count how many times each word appears?\n",
        "\n",
        "A few options:\n",
        "\n",
        "* For each word, we can use `.count()` to see how many times it appears and just print this.  \n",
        "* We could create a list of the number of times each word occurs in the same position as the word in the list of words.  \n",
        "* We could create a variable for each word and have it store the number of times the word occurs\n",
        "* Or we can do exactly this, but the right way: with a dictionary.\n",
        "\n",
        "Let's start working with a smaller example of a string."
      ]
    },
    {
      "cell_type": "code",
      "execution_count": 46,
      "metadata": {},
      "outputs": [
        {
          "name": "stdout",
          "output_type": "stream",
          "text": [
            "['we', 'can', 'dance', 'if', 'we', 'want', 'to', 'we', 'can', 'leave', 'your', 'friends', 'behind', 'cause', 'your', 'friends', 'dont', 'dance', 'and', 'if', 'they', 'dont', 'dance', 'well', 'theyre', 'no', 'friends', 'of', 'mine']\n"
          ]
        }
      ],
      "source": [
        "import string\n",
        "\n",
        "lyrics = \"We can dance if we want to We can leave your friends behind 'Cause your friends don't dance And if they don't dance Well, they're no friends of mine\"\n",
        "for mark in string.punctuation:\n",
        "  lyrics = lyrics.replace(mark,'')\n",
        "\n",
        "word_list = lyrics.lower().split()\n",
        "print(word_list)\n"
      ]
    },
    {
      "cell_type": "markdown",
      "metadata": {},
      "source": [
        "Now we will create a dictionary and start adding words to it."
      ]
    },
    {
      "cell_type": "code",
      "execution_count": 49,
      "metadata": {},
      "outputs": [
        {
          "ename": "SyntaxError",
          "evalue": "invalid syntax (2842484667.py, line 2)",
          "output_type": "error",
          "traceback": [
            "\u001b[0;36m  Cell \u001b[0;32mIn[49], line 2\u001b[0;36m\u001b[0m\n\u001b[0;31m    wordcount{}\u001b[0m\n\u001b[0m             ^\u001b[0m\n\u001b[0;31mSyntaxError\u001b[0m\u001b[0;31m:\u001b[0m invalid syntax\n"
          ]
        }
      ],
      "source": [
        "# start with an empty dictionary\n",
        "wordcount{}\n",
        "\n",
        "# loop over words is word_list, adding them to the dictionary.\n",
        "for word in clean_words:\n",
        "    if word not in wordcount:\n",
        "        wordcount[word] = 1\n",
        "    else:\n",
        "        wordcount[word] += 1\n",
        "# Check to see if the word is in the dictionary.  If so, add to its counter.  Otherwise, start a new entry with counter 1.\n",
        "print(wordcount)"
      ]
    },
    {
      "cell_type": "markdown",
      "metadata": {},
      "source": [
        "#### Sorting the dictionary\n",
        "\n",
        "You cannot sort dictionaries!  But you can sort lists, and you can create a list out of a dictionary.  The tricky bit is figuring out how to sort that list based not on the words in the list, but by the value of the key that corresponds to that word in the dictionary.\n",
        "\n",
        "The idea is this: define a function that returns some value for each key of the dictionary, and sort by these returned values."
      ]
    }
  ],
  "metadata": {
    "colab": {
      "include_colab_link": true,
      "provenance": []
    },
    "kernelspec": {
      "display_name": "Python 3",
      "name": "python3"
    },
    "language_info": {
      "codemirror_mode": {
        "name": "ipython",
        "version": 3
      },
      "file_extension": ".py",
      "mimetype": "text/x-python",
      "name": "python",
      "nbconvert_exporter": "python",
      "pygments_lexer": "ipython3",
      "version": "3.10.8"
    }
  },
  "nbformat": 4,
  "nbformat_minor": 0
}
