{
  "cells": [
    {
      "cell_type": "markdown",
      "metadata": {},
      "source": [
        "# Friday, October 27\n",
        "\n",
        "## Announcements and Reminders\n",
        "\n",
        "- Exercises for Chapter 10: due tonight\n",
        "- Read Chapter 11 (due Wednesday)\n"
      ]
    },
    {
      "cell_type": "markdown",
      "metadata": {},
      "source": [
        "## Activity: Exploring a Movie Database\n",
        "\n",
        "Last time we saw how to import a `.csv` file and store it as a *list of lists*.  Then we started converting that list of lists into a list of dictionaries.\n",
        "\n",
        "Here is a review of what we did last time:"
      ]
    },
    {
      "cell_type": "code",
      "execution_count": 2,
      "metadata": {},
      "outputs": [
        {
          "name": "stdout",
          "output_type": "stream",
          "text": [
            "['Superbabies: Baby Geniuses 2', '2004', 'PG', '27 Aug 2004', '88 min', 'Comedy, Family, Sci-Fi', 'Bob Clark', 'Steven Paul (story), Gregory Poppen (screenplay)', 'Jon Voight, Scott Baio, Vanessa Angel, Skyler Shaye', \"A group of smart-talking toddlers find themselves at the center of a media mogul's experiment to crack the code to baby talk. The toddlers must race against time for the sake of babies everywhere.\", 'English', 'Germany, UK, USA', '13 nominations.', 'https://images-na.ssl-images-amazon.com/images/M/MV5BNjY4NjM3MjQ2OF5BMl5BanBnXkFtZTcwOTc3NzYyMQ@@._V1_SX300.jpg', 'Internet Movie Database', '2.0/10', '9', '2.0', '26,376', 'tt0270846', 'movie', '04 Jan 2005', '$9,016,422', 'Sony', 'http://www.sonypictures.com/movies/superbabiesbabygeniuses2/index.html', 'True', 'http://www.rottentomatoes.com/m/super_babies_baby_geniuses_2/']\n",
            "{'Title': 'Superbabies: Baby Geniuses 2', 'Year': '2004', 'Rated': 'PG', 'Released': '27 Aug 2004', 'Runtime': '88 min', 'Genre': 'Comedy, Family, Sci-Fi', 'Director': 'Bob Clark', 'Writer': 'Steven Paul (story), Gregory Poppen (screenplay)', 'Actors': 'Jon Voight, Scott Baio, Vanessa Angel, Skyler Shaye', 'Plot': \"A group of smart-talking toddlers find themselves at the center of a media mogul's experiment to crack the code to baby talk. The toddlers must race against time for the sake of babies everywhere.\", 'Language': 'English', 'Country': 'Germany, UK, USA', 'Awards': '13 nominations.', 'Poster': 'https://images-na.ssl-images-amazon.com/images/M/MV5BNjY4NjM3MjQ2OF5BMl5BanBnXkFtZTcwOTc3NzYyMQ@@._V1_SX300.jpg', 'Ratings.Source': 'Internet Movie Database', 'Ratings.Value': '2.0/10', 'Metascore': '9', 'imdbRating': '2.0', 'imdbVotes': '26,376', 'imdbID': 'tt0270846', 'Type': 'movie', 'DVD': '04 Jan 2005', 'BoxOffice': '$9,016,422', 'Production': 'Sony', 'Website': 'http://www.sonypictures.com/movies/superbabiesbabygeniuses2/index.html', 'Response': 'True', 'tomatoURL': 'http://www.rottentomatoes.com/m/super_babies_baby_geniuses_2/'}\n"
          ]
        }
      ],
      "source": [
        "import csv\n",
        "\n",
        "# Open the file\n",
        "with open('imdb.csv', 'r') as f:\n",
        "  # Use the csv library to read the data\n",
        "  data = list(csv.reader(f))\n",
        "\n",
        "# `data` is now a list of lists.  We can get a particular movie from it by selecting one of the elements, say list 3:\n",
        "print(data[3])\n",
        "\n",
        "# Since data[0] contains the column headers, we can use those to create a dictionary for this one movie where the keys are the column headers, and the values are the corresponding entries for that movie:\n",
        "movie = {}\n",
        "for n in range(len(data[0])):\n",
        "  movie[data[0][n]] = data[3][n]\n",
        "  headers = data[0]\n",
        "  movie_data=data[3]\n",
        "  key = headers[n]\n",
        "  value = movie_data[n]\n",
        "  movie[key] = value\n",
        "\n",
        "print(movie)"
      ]
    },
    {
      "cell_type": "markdown",
      "metadata": {},
      "source": [
        "Actually, why don't we just do that for all the movies.  Make a list of dictionaries, where each dictionary represents a single movie."
      ]
    },
    {
      "cell_type": "code",
      "execution_count": 4,
      "metadata": {},
      "outputs": [
        {
          "name": "stdout",
          "output_type": "stream",
          "text": [
            "[{'Title': 'Superbabies: Baby Geniuses 2', 'Year': '2004', 'Rated': 'PG', 'Released': '27 Aug 2004', 'Runtime': '88 min', 'Genre': 'Comedy, Family, Sci-Fi', 'Director': 'Bob Clark', 'Writer': 'Steven Paul (story), Gregory Poppen (screenplay)', 'Actors': 'Jon Voight, Scott Baio, Vanessa Angel, Skyler Shaye', 'Plot': \"A group of smart-talking toddlers find themselves at the center of a media mogul's experiment to crack the code to baby talk. The toddlers must race against time for the sake of babies everywhere.\", 'Language': 'English', 'Country': 'Germany, UK, USA', 'Awards': '13 nominations.', 'Poster': 'https://images-na.ssl-images-amazon.com/images/M/MV5BNjY4NjM3MjQ2OF5BMl5BanBnXkFtZTcwOTc3NzYyMQ@@._V1_SX300.jpg', 'Ratings.Source': 'Internet Movie Database', 'Ratings.Value': '2.0/10', 'Metascore': '9', 'imdbRating': '2.0', 'imdbVotes': '26,376', 'imdbID': 'tt0270846', 'Type': 'movie', 'DVD': '04 Jan 2005', 'BoxOffice': '$9,016,422', 'Production': 'Sony', 'Website': 'http://www.sonypictures.com/movies/superbabiesbabygeniuses2/index.html', 'Response': 'True', 'tomatoURL': 'http://www.rottentomatoes.com/m/super_babies_baby_geniuses_2/'}, {'Title': 'Superbabies: Baby Geniuses 2', 'Year': '2004', 'Rated': 'PG', 'Released': '27 Aug 2004', 'Runtime': '88 min', 'Genre': 'Comedy, Family, Sci-Fi', 'Director': 'Bob Clark', 'Writer': 'Steven Paul (story), Gregory Poppen (screenplay)', 'Actors': 'Jon Voight, Scott Baio, Vanessa Angel, Skyler Shaye', 'Plot': \"A group of smart-talking toddlers find themselves at the center of a media mogul's experiment to crack the code to baby talk. The toddlers must race against time for the sake of babies everywhere.\", 'Language': 'English', 'Country': 'Germany, UK, USA', 'Awards': '13 nominations.', 'Poster': 'https://images-na.ssl-images-amazon.com/images/M/MV5BNjY4NjM3MjQ2OF5BMl5BanBnXkFtZTcwOTc3NzYyMQ@@._V1_SX300.jpg', 'Ratings.Source': 'Internet Movie Database', 'Ratings.Value': '2.0/10', 'Metascore': '9', 'imdbRating': '2.0', 'imdbVotes': '26,376', 'imdbID': 'tt0270846', 'Type': 'movie', 'DVD': '04 Jan 2005', 'BoxOffice': '$9,016,422', 'Production': 'Sony', 'Website': 'http://www.sonypictures.com/movies/superbabiesbabygeniuses2/index.html', 'Response': 'True', 'tomatoURL': 'http://www.rottentomatoes.com/m/super_babies_baby_geniuses_2/'}, {'Title': 'Superbabies: Baby Geniuses 2', 'Year': '2004', 'Rated': 'PG', 'Released': '27 Aug 2004', 'Runtime': '88 min', 'Genre': 'Comedy, Family, Sci-Fi', 'Director': 'Bob Clark', 'Writer': 'Steven Paul (story), Gregory Poppen (screenplay)', 'Actors': 'Jon Voight, Scott Baio, Vanessa Angel, Skyler Shaye', 'Plot': \"A group of smart-talking toddlers find themselves at the center of a media mogul's experiment to crack the code to baby talk. The toddlers must race against time for the sake of babies everywhere.\", 'Language': 'English', 'Country': 'Germany, UK, USA', 'Awards': '13 nominations.', 'Poster': 'https://images-na.ssl-images-amazon.com/images/M/MV5BNjY4NjM3MjQ2OF5BMl5BanBnXkFtZTcwOTc3NzYyMQ@@._V1_SX300.jpg', 'Ratings.Source': 'Internet Movie Database', 'Ratings.Value': '2.0/10', 'Metascore': '9', 'imdbRating': '2.0', 'imdbVotes': '26,376', 'imdbID': 'tt0270846', 'Type': 'movie', 'DVD': '04 Jan 2005', 'BoxOffice': '$9,016,422', 'Production': 'Sony', 'Website': 'http://www.sonypictures.com/movies/superbabiesbabygeniuses2/index.html', 'Response': 'True', 'tomatoURL': 'http://www.rottentomatoes.com/m/super_babies_baby_geniuses_2/'}, {'Title': 'Superbabies: Baby Geniuses 2', 'Year': '2004', 'Rated': 'PG', 'Released': '27 Aug 2004', 'Runtime': '88 min', 'Genre': 'Comedy, Family, Sci-Fi', 'Director': 'Bob Clark', 'Writer': 'Steven Paul (story), Gregory Poppen (screenplay)', 'Actors': 'Jon Voight, Scott Baio, Vanessa Angel, Skyler Shaye', 'Plot': \"A group of smart-talking toddlers find themselves at the center of a media mogul's experiment to crack the code to baby talk. The toddlers must race against time for the sake of babies everywhere.\", 'Language': 'English', 'Country': 'Germany, UK, USA', 'Awards': '13 nominations.', 'Poster': 'https://images-na.ssl-images-amazon.com/images/M/MV5BNjY4NjM3MjQ2OF5BMl5BanBnXkFtZTcwOTc3NzYyMQ@@._V1_SX300.jpg', 'Ratings.Source': 'Internet Movie Database', 'Ratings.Value': '2.0/10', 'Metascore': '9', 'imdbRating': '2.0', 'imdbVotes': '26,376', 'imdbID': 'tt0270846', 'Type': 'movie', 'DVD': '04 Jan 2005', 'BoxOffice': '$9,016,422', 'Production': 'Sony', 'Website': 'http://www.sonypictures.com/movies/superbabiesbabygeniuses2/index.html', 'Response': 'True', 'tomatoURL': 'http://www.rottentomatoes.com/m/super_babies_baby_geniuses_2/'}, {'Title': 'Superbabies: Baby Geniuses 2', 'Year': '2004', 'Rated': 'PG', 'Released': '27 Aug 2004', 'Runtime': '88 min', 'Genre': 'Comedy, Family, Sci-Fi', 'Director': 'Bob Clark', 'Writer': 'Steven Paul (story), Gregory Poppen (screenplay)', 'Actors': 'Jon Voight, Scott Baio, Vanessa Angel, Skyler Shaye', 'Plot': \"A group of smart-talking toddlers find themselves at the center of a media mogul's experiment to crack the code to baby talk. The toddlers must race against time for the sake of babies everywhere.\", 'Language': 'English', 'Country': 'Germany, UK, USA', 'Awards': '13 nominations.', 'Poster': 'https://images-na.ssl-images-amazon.com/images/M/MV5BNjY4NjM3MjQ2OF5BMl5BanBnXkFtZTcwOTc3NzYyMQ@@._V1_SX300.jpg', 'Ratings.Source': 'Internet Movie Database', 'Ratings.Value': '2.0/10', 'Metascore': '9', 'imdbRating': '2.0', 'imdbVotes': '26,376', 'imdbID': 'tt0270846', 'Type': 'movie', 'DVD': '04 Jan 2005', 'BoxOffice': '$9,016,422', 'Production': 'Sony', 'Website': 'http://www.sonypictures.com/movies/superbabiesbabygeniuses2/index.html', 'Response': 'True', 'tomatoURL': 'http://www.rottentomatoes.com/m/super_babies_baby_geniuses_2/'}]\n"
          ]
        }
      ],
      "source": [
        "movieDL = []\n",
        "\n",
        "for x in range(1, len(data)):\n",
        "    movie = {}\n",
        "    for n in range(len(data[0])):\n",
        "        movie[data[0][n]] = data[3][n]\n",
        "    movieDL.append(movie)\n",
        "\n",
        "print(movieDL[:5])\n",
        "\n"
      ]
    },
    {
      "cell_type": "markdown",
      "metadata": {},
      "source": [
        "### Exploring the data\n",
        "\n",
        "We now have a nice data object to work with.  What can we do with it?  Here are some ideas:\n",
        "\n",
        "1. Pick your favorite movie.  Is it in the list?  What was it rated?\n",
        "2. How many Comedy/Sci-Fi movies were released in 2013?\n",
        "3. How many movies feature Nic Cage?  \n",
        "4. What about Cage and Kevin Bacon?\n",
        "5. Are there any movies about computer science?\n",
        "\n",
        "Answer some of the questions below.\n"
      ]
    },
    {
      "cell_type": "code",
      "execution_count": 7,
      "metadata": {},
      "outputs": [
        {
          "name": "stdout",
          "output_type": "stream",
          "text": [
            "5273\n",
            "Superbabies: Baby Geniuses 2\n"
          ]
        }
      ],
      "source": [
        "print(len(movieDL))\n",
        "print(movieDL[665][\"Title\"])\n",
        "\n",
        "for movie in movieDL:\n",
        "    if \"Harry Potter\" in movie[\"Title\"]:\n",
        "        print(movie[\"Title\"])"
      ]
    },
    {
      "cell_type": "markdown",
      "metadata": {},
      "source": [
        "### Sorting\n",
        "Another question you might ask: which movie on the list made the most money? How could we find this?\n",
        "\n",
        "- We could go through each movie and find it's earnings, and keep track of the largest one we have seen.\n",
        "- We could use the max() function\n",
        "- We could sort the movies by earnings\n",
        "\n",
        "Try one or more of these."
      ]
    },
    {
      "cell_type": "code",
      "execution_count": null,
      "metadata": {},
      "outputs": [],
      "source": []
    },
    {
      "cell_type": "markdown",
      "metadata": {},
      "source": [
        "Earnings don't necessarily have ties, but if we sorted by rating say, then there will be more than one movie with a top rating.  How could we further sort the movies?\n",
        "\n",
        "## Sorting with tuples\n",
        "\n",
        "Tuple sorting is really nice! See what happens when you run the code below."
      ]
    },
    {
      "cell_type": "code",
      "execution_count": null,
      "metadata": {},
      "outputs": [],
      "source": [
        "tupleList = [('abc',3,'1'),('a',1,'10'),('a', 2,'9'),('a', 1,'9'),('abc',30,'0')]\n",
        "tupleList.sort()\n",
        "print(tupleList)"
      ]
    },
    {
      "cell_type": "markdown",
      "metadata": {},
      "source": [
        "Now let's use tuples to sort the list of movie dictionaries.  Let's create a function that takes in a movie (dictionary) and returns a sorting \"score\" in the form of a tuple.  Then sort the list of dictionaries using these tuples as the key."
      ]
    },
    {
      "cell_type": "code",
      "execution_count": null,
      "metadata": {},
      "outputs": [],
      "source": []
    }
  ],
  "metadata": {
    "colab": {
      "include_colab_link": true,
      "provenance": []
    },
    "kernelspec": {
      "display_name": "Python 3",
      "name": "python3"
    },
    "language_info": {
      "codemirror_mode": {
        "name": "ipython",
        "version": 3
      },
      "file_extension": ".py",
      "mimetype": "text/x-python",
      "name": "python",
      "nbconvert_exporter": "python",
      "pygments_lexer": "ipython3",
      "version": "3.10.8"
    }
  },
  "nbformat": 4,
  "nbformat_minor": 0
}
